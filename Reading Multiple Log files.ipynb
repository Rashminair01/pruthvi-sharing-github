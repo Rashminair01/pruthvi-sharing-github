{
 "cells": [
  {
   "cell_type": "code",
   "execution_count": 52,
   "metadata": {},
   "outputs": [],
   "source": [
    "# importing libraries\n",
    "\n",
    "import re\n",
    "import pandas as pd\n",
    "import os.path"
   ]
  },
  {
   "cell_type": "code",
   "execution_count": 53,
   "metadata": {},
   "outputs": [],
   "source": [
    "# search for all the files with the extension .log\n",
    "\n",
    "directory=\"C:\\\\Users\\\\prakasps\\\\Desktop\"\n",
    "file_list=[]\n",
    "for i in os.listdir(directory):\n",
    "    if \".log\" in i:\n",
    "        file_list.append(i)"
   ]
  },
  {
   "cell_type": "code",
   "execution_count": 54,
   "metadata": {},
   "outputs": [],
   "source": [
    "# create data frame variables to store the text data\n",
    "names=[]\n",
    "count=0\n",
    "for i in file_list:\n",
    "    names.append(file_list[count].split('.')[0])\n",
    "    count=count+1"
   ]
  },
  {
   "cell_type": "code",
   "execution_count": 55,
   "metadata": {},
   "outputs": [],
   "source": [
    "count=0\n",
    "for i in file_list:\n",
    "    path=directory+\"\\\\\"+i\n",
    "    with open(path) as file:\n",
    "        data=file.read()\n",
    "        data_new1=data\n",
    "        if \"ÿþ\" in data_new1:\n",
    "            data_new1=data_new1.replace(\"ÿþ\",'')\n",
    "        else:\n",
    "            data_new1=data_new1\n",
    "        Log_data=re.search('.*\\n',data_new1)\n",
    "        Log_RawData=data_new1.replace('\\x00','')\n",
    "        col_list=Log_RawData.split('\\n')[0]\n",
    "        Value=re.split('\\n',Log_RawData)\n",
    "        Value=Value[2:]\n",
    "        df=pd.DataFrame(data=Value)\n",
    "        df1=df[0].str.split(',')\n",
    "        names[count]=df1.apply(pd.Series)\n",
    "        data_col=col_list.split(',')\n",
    "        names[count].columns=data_col\n",
    "        count=count+1\n",
    "        data=''\n",
    "        log_data=''\n",
    "        col_list=''\n",
    "        df=''\n",
    "        data_col=''\n",
    "        Value=''\n",
    "        \n",
    "        "
   ]
  },
  {
   "cell_type": "code",
   "execution_count": 57,
   "metadata": {},
   "outputs": [],
   "source": [
    "# delete all the rows which are completely empty\n",
    "count=0\n",
    "for i in names:\n",
    "    names[count]=names[count].dropna()\n",
    "    count=count+1\n"
   ]
  },
  {
   "cell_type": "code",
   "execution_count": 60,
   "metadata": {},
   "outputs": [
    {
     "name": "stdout",
     "output_type": "stream",
     "text": [
      "Data frame\n",
      "                  Date                               Source Severity Step ID  \\\n",
      "0  09/25/2018 11:54:05  #DBA - OPCON Notification of Alerts  Success           \n",
      "2  09/25/2018 11:54:06  #DBA - OPCON Notification of Alerts  Success       1   \n",
      "4  09/23/2018 14:10:06  #DBA - OPCON Notification of Alerts  Success           \n",
      "6  09/23/2018 14:10:06  #DBA - OPCON Notification of Alerts  Success       1   \n",
      "8  09/23/2018 14:10:05  #DBA - OPCON Notification of Alerts  Success           \n",
      "\n",
      "            Server                             Job Name  \\\n",
      "0  AZRCUSUISUAT002  #DBA - OPCON Notification of Alerts   \n",
      "2  AZRCUSUISUAT002  #DBA - OPCON Notification of Alerts   \n",
      "4  AZRCUSUISUAT002  #DBA - OPCON Notification of Alerts   \n",
      "6  AZRCUSUISUAT002  #DBA - OPCON Notification of Alerts   \n",
      "8  AZRCUSUISUAT002  #DBA - OPCON Notification of Alerts   \n",
      "\n",
      "                      Step Name Notifications  \\\n",
      "0                                               \n",
      "2  OPCON Notification of Alerts                 \n",
      "4                                               \n",
      "6  OPCON Notification of Alerts                 \n",
      "8                                               \n",
      "\n",
      "                                             Message  Duration Sql Severity  \\\n",
      "0  The job succeeded.  The Job was invoked by Ale...  00:00:04            0   \n",
      "2  Executed as user: GOIS\\AZRCUSUIS. The step suc...  00:00:03            0   \n",
      "4  The job succeeded.  The Job was invoked by Ale...  00:00:01            0   \n",
      "6  Executed as user: GOIS\\AZRCUSUIS. The step suc...  00:00:01            0   \n",
      "8  The job succeeded.  The Job was invoked by Ale...  00:00:01            0   \n",
      "\n",
      "  Sql Message ID Operator Emailed Operator Net sent Operator Paged  \\\n",
      "0              0                                                     \n",
      "2              0                                                     \n",
      "4              0                                                     \n",
      "6              0                                                     \n",
      "8              0                                                     \n",
      "\n",
      "  Retries Attempted  \n",
      "0                 0  \n",
      "2                 0  \n",
      "4                 0  \n",
      "6                 0  \n",
      "8                 0  \n",
      "Data frame\n",
      "                  Date Source     Severity  \\\n",
      "0  09/15/2018 16:56:30             Warning   \n",
      "2  09/15/2018 16:56:30             Warning   \n",
      "4  09/15/2018 16:56:30         Information   \n",
      "6  09/15/2018 16:56:28         Information   \n",
      "8  09/15/2018 16:56:27         Information   \n",
      "\n",
      "                                             Message  \n",
      "0  [396] An idle CPU condition has not been defin...  \n",
      "2  [475] Database Mail is not enabled for agent n...  \n",
      "4  [129] SQLSERVERAGENT starting under Windows NT...  \n",
      "6  [432] There are 13 subsystems in the subsystem...  \n",
      "8  [339] Local computer is IMSLN312 running Windo...  \n"
     ]
    }
   ],
   "source": [
    "# check the data frames\n",
    "for i in names:\n",
    "    print(\"Data frame\")\n",
    "    print(\"{}\".format(i.head(5)))\n",
    "    "
   ]
  },
  {
   "cell_type": "code",
   "execution_count": null,
   "metadata": {},
   "outputs": [],
   "source": []
  }
 ],
 "metadata": {
  "kernelspec": {
   "display_name": "Python 3",
   "language": "python",
   "name": "python3"
  },
  "language_info": {
   "codemirror_mode": {
    "name": "ipython",
    "version": 3
   },
   "file_extension": ".py",
   "mimetype": "text/x-python",
   "name": "python",
   "nbconvert_exporter": "python",
   "pygments_lexer": "ipython3",
   "version": "3.6.5"
  }
 },
 "nbformat": 4,
 "nbformat_minor": 2
}
