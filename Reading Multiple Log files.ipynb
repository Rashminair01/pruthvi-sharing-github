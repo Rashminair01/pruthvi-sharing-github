{
 "cells": [
  {
   "cell_type": "code",
   "execution_count": 52,
   "metadata": {},
   "outputs": [],
   "source": [
    "# importing libraries\n",
    "\n",
    "import re\n",
    "import pandas as pd\n",
    "import os.path"
   ]
  },
  {
   "cell_type": "code",
   "execution_count": 53,
   "metadata": {},
   "outputs": [],
   "source": [
    "# search for all the files with the extension .log\n",
    "\n",
    "directory=\"C:\\\\Users\\\\prakasps\\\\Desktop\"\n",
    "file_list=[]\n",
    "for i in os.listdir(directory):\n",
    "    if \".log\" in i:\n",
    "        file_list.append(i)"
   ]
  },
  {
   "cell_type": "code",
   "execution_count": 54,
   "metadata": {},
   "outputs": [],
   "source": [
    "# create data frame variables to store the text data\n",
    "names=[]\n",
    "count=0\n",
    "for i in file_list:\n",
    "    names.append(file_list[count].split('.')[0])\n",
    "    count=count+1"
   ]
  },
  {
   "cell_type": "code",
   "execution_count": 55,
   "metadata": {},
   "outputs": [],
   "source": [
    "count=0\n",
    "for i in file_list:\n",
    "    path=directory+\"\\\\\"+i\n",
    "    with open(path) as file:\n",
    "        data=file.read()\n",
    "        data_new1=data\n",
    "        if \"ÿþ\" in data_new1:\n",
    "            data_new1=data_new1.replace(\"ÿþ\",'')\n",
    "        else:\n",
    "            data_new1=data_new1\n",
    "        Log_data=re.search('.*\\n',data_new1)\n",
    "        Log_RawData=data_new1.replace('\\x00','')\n",
    "        col_list=Log_RawData.split('\\n')[0]\n",
    "        Value=re.split('\\n',Log_RawData)\n",
    "        Value=Value[2:]\n",
    "        df=pd.DataFrame(data=Value)\n",
    "        df1=df[0].str.split(',')\n",
    "        names[count]=df1.apply(pd.Series)\n",
    "        data_col=col_list.split(',')\n",
    "        names[count].columns=data_col\n",
    "        count=count+1\n",
    "        data=''\n",
    "        log_data=''\n",
    "        col_list=''\n",
    "        df=''\n",
    "        data_col=''\n",
    "        Value=''\n",
    "        \n",
    "        "
   ]
  },
  {
   "cell_type": "code",
   "execution_count": 57,
   "metadata": {},
   "outputs": [],
   "source": [
    "# delete all the rows which are completely empty\n",
    "count=0\n",
    "for i in names:\n",
    "    names[count]=names[count].dropna()\n",
    "    count=count+1\n"
   ]
  },
  {
   "cell_type": "code",
   "execution_count": 62,
   "metadata": {},
   "outputs": [
    {
     "data": {
      "text/plain": [
       "'for i in names:\\n    print(\"Data frame\")\\n    print(\"{}\".format(i.head(5)))\\n    '"
      ]
     },
     "execution_count": 62,
     "metadata": {},
     "output_type": "execute_result"
    }
   ],
   "source": [
    "# check the data frames\n",
    "for i in names:\n",
    "    print(\"Data frame\")\n",
    "    print(\"{}\".format(i.head(5)))\n"
   ]
  },
  {
   "cell_type": "code",
   "execution_count": null,
   "metadata": {},
   "outputs": [],
   "source": []
  }
 ],
 "metadata": {
  "kernelspec": {
   "display_name": "Python 3",
   "language": "python",
   "name": "python3"
  },
  "language_info": {
   "codemirror_mode": {
    "name": "ipython",
    "version": 3
   },
   "file_extension": ".py",
   "mimetype": "text/x-python",
   "name": "python",
   "nbconvert_exporter": "python",
   "pygments_lexer": "ipython3",
   "version": "3.6.5"
  }
 },
 "nbformat": 4,
 "nbformat_minor": 2
}
