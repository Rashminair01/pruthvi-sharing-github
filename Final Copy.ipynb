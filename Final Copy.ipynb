{
 "cells": [
  {
   "cell_type": "code",
   "execution_count": 76,
   "metadata": {},
   "outputs": [],
   "source": [
    "import pandas as pd\n",
    "import re\n",
    "import json\n",
    "\n",
    "with open (\"C:\\\\Users\\\\prakasps\\\\Desktop\\\\Python\\\\abc.txt\",'r') as file:\n",
    "    d=file.read()\n"
   ]
  },
  {
   "cell_type": "code",
   "execution_count": 77,
   "metadata": {},
   "outputs": [
    {
     "name": "stdout",
     "output_type": "stream",
     "text": [
      "[\"abcd: abc{id='248-22-5548',\", \"xyz: abc{itemNumber='74-6-5311',\", \"xyz: abc{id='240-43-55',\", \"xyz: abc{id='240-43-3',\", \"xyz: abc{id='88-4-192',\", \"xyz: abc{id='65-12-141',\", \"xyz: abc{id='65-12-111',\", \"xyz: abc{id='53-0-2900',\", \"1234: abc{id='205-4-1277',\", \"1234: abc{id='205-4-1278',\", \"1234: abc{id='205-4-1279',\", \"1234: abc{id='205-4-1270',\", \"1234: abc{id='205-4-1271',\", \"1234: abc{id='205-4-1272',\", \"1234: abc{id='205-4-1273',\", \"1234: abc{id='205-4-1274',\", \"1234: abc{id='205-4-1275',\", \"1234: abc{id='205-4-1276',\", \"1234: abc{id='205-4-1280',\", \"1234: abc{id='205-4-1281',\", \"1234: abc{id='205-4-1282',\", \"1234: abc{id='205-4-1266',\", \"1234: abc{id='205-4-1267',\", \"1234: abc{id='205-4-1268',\", \"1234: abc{id='205-4-1269',\", \"1234: abc{id='205-4-1265',\"]\n"
     ]
    }
   ],
   "source": [
    "regex=re.compile(r'\\w+: \\w+{\\w+=\\S+')\n",
    "print(regex.findall(d))\n",
    "d1=regex.findall(d)"
   ]
  },
  {
   "cell_type": "code",
   "execution_count": 78,
   "metadata": {},
   "outputs": [
    {
     "name": "stdout",
     "output_type": "stream",
     "text": [
      "[\"abcd: abc{id='248\", '22', \"5548',\"]\n",
      "[\"xyz: abc{itemNumber='74\", '6', \"5311',\"]\n",
      "[\"xyz: abc{id='240\", '43', \"55',\"]\n",
      "[\"xyz: abc{id='240\", '43', \"3',\"]\n",
      "[\"xyz: abc{id='88\", '4', \"192',\"]\n",
      "[\"xyz: abc{id='65\", '12', \"141',\"]\n",
      "[\"xyz: abc{id='65\", '12', \"111',\"]\n",
      "[\"xyz: abc{id='53\", '0', \"2900',\"]\n",
      "[\"1234: abc{id='205\", '4', \"1277',\"]\n",
      "[\"1234: abc{id='205\", '4', \"1278',\"]\n",
      "[\"1234: abc{id='205\", '4', \"1279',\"]\n",
      "[\"1234: abc{id='205\", '4', \"1270',\"]\n",
      "[\"1234: abc{id='205\", '4', \"1271',\"]\n",
      "[\"1234: abc{id='205\", '4', \"1272',\"]\n",
      "[\"1234: abc{id='205\", '4', \"1273',\"]\n",
      "[\"1234: abc{id='205\", '4', \"1274',\"]\n",
      "[\"1234: abc{id='205\", '4', \"1275',\"]\n",
      "[\"1234: abc{id='205\", '4', \"1276',\"]\n",
      "[\"1234: abc{id='205\", '4', \"1280',\"]\n",
      "[\"1234: abc{id='205\", '4', \"1281',\"]\n",
      "[\"1234: abc{id='205\", '4', \"1282',\"]\n",
      "[\"1234: abc{id='205\", '4', \"1266',\"]\n",
      "[\"1234: abc{id='205\", '4', \"1267',\"]\n",
      "[\"1234: abc{id='205\", '4', \"1268',\"]\n",
      "[\"1234: abc{id='205\", '4', \"1269',\"]\n",
      "[\"1234: abc{id='205\", '4', \"1265',\"]\n"
     ]
    }
   ],
   "source": [
    "for i in d1:\n",
    "    print(i.split('-'))\n",
    "    "
   ]
  },
  {
   "cell_type": "code",
   "execution_count": 79,
   "metadata": {},
   "outputs": [],
   "source": [
    "data_frame=pd.DataFrame(data=d1,index=None)"
   ]
  },
  {
   "cell_type": "code",
   "execution_count": 80,
   "metadata": {},
   "outputs": [],
   "source": [
    "data_frame.columns=['data_set']"
   ]
  },
  {
   "cell_type": "code",
   "execution_count": 81,
   "metadata": {},
   "outputs": [
    {
     "data": {
      "text/html": [
       "<div>\n",
       "<style scoped>\n",
       "    .dataframe tbody tr th:only-of-type {\n",
       "        vertical-align: middle;\n",
       "    }\n",
       "\n",
       "    .dataframe tbody tr th {\n",
       "        vertical-align: top;\n",
       "    }\n",
       "\n",
       "    .dataframe thead th {\n",
       "        text-align: right;\n",
       "    }\n",
       "</style>\n",
       "<table border=\"1\" class=\"dataframe\">\n",
       "  <thead>\n",
       "    <tr style=\"text-align: right;\">\n",
       "      <th></th>\n",
       "      <th>data_set</th>\n",
       "    </tr>\n",
       "  </thead>\n",
       "  <tbody>\n",
       "    <tr>\n",
       "      <th>0</th>\n",
       "      <td>abcd: abc{id='248-22-5548',</td>\n",
       "    </tr>\n",
       "    <tr>\n",
       "      <th>1</th>\n",
       "      <td>xyz: abc{itemNumber='74-6-5311',</td>\n",
       "    </tr>\n",
       "    <tr>\n",
       "      <th>2</th>\n",
       "      <td>xyz: abc{id='240-43-55',</td>\n",
       "    </tr>\n",
       "    <tr>\n",
       "      <th>3</th>\n",
       "      <td>xyz: abc{id='240-43-3',</td>\n",
       "    </tr>\n",
       "    <tr>\n",
       "      <th>4</th>\n",
       "      <td>xyz: abc{id='88-4-192',</td>\n",
       "    </tr>\n",
       "  </tbody>\n",
       "</table>\n",
       "</div>"
      ],
      "text/plain": [
       "                           data_set\n",
       "0       abcd: abc{id='248-22-5548',\n",
       "1  xyz: abc{itemNumber='74-6-5311',\n",
       "2          xyz: abc{id='240-43-55',\n",
       "3           xyz: abc{id='240-43-3',\n",
       "4           xyz: abc{id='88-4-192',"
      ]
     },
     "execution_count": 81,
     "metadata": {},
     "output_type": "execute_result"
    }
   ],
   "source": [
    "data_frame.head(5)"
   ]
  },
  {
   "cell_type": "code",
   "execution_count": 82,
   "metadata": {},
   "outputs": [],
   "source": [
    "data_frame['id']=data_frame['data_set'].str.split(':')"
   ]
  },
  {
   "cell_type": "code",
   "execution_count": 83,
   "metadata": {},
   "outputs": [],
   "source": [
    "data_frame[['T1','T2']]=data_frame['id'].apply(pd.Series)"
   ]
  },
  {
   "cell_type": "code",
   "execution_count": 84,
   "metadata": {},
   "outputs": [
    {
     "data": {
      "text/html": [
       "<div>\n",
       "<style scoped>\n",
       "    .dataframe tbody tr th:only-of-type {\n",
       "        vertical-align: middle;\n",
       "    }\n",
       "\n",
       "    .dataframe tbody tr th {\n",
       "        vertical-align: top;\n",
       "    }\n",
       "\n",
       "    .dataframe thead th {\n",
       "        text-align: right;\n",
       "    }\n",
       "</style>\n",
       "<table border=\"1\" class=\"dataframe\">\n",
       "  <thead>\n",
       "    <tr style=\"text-align: right;\">\n",
       "      <th></th>\n",
       "      <th>T1</th>\n",
       "      <th>T2</th>\n",
       "    </tr>\n",
       "  </thead>\n",
       "  <tbody>\n",
       "    <tr>\n",
       "      <th>0</th>\n",
       "      <td>abcd</td>\n",
       "      <td>abc{id='248-22-5548',</td>\n",
       "    </tr>\n",
       "    <tr>\n",
       "      <th>1</th>\n",
       "      <td>xyz</td>\n",
       "      <td>abc{itemNumber='74-6-5311',</td>\n",
       "    </tr>\n",
       "    <tr>\n",
       "      <th>2</th>\n",
       "      <td>xyz</td>\n",
       "      <td>abc{id='240-43-55',</td>\n",
       "    </tr>\n",
       "    <tr>\n",
       "      <th>3</th>\n",
       "      <td>xyz</td>\n",
       "      <td>abc{id='240-43-3',</td>\n",
       "    </tr>\n",
       "    <tr>\n",
       "      <th>4</th>\n",
       "      <td>xyz</td>\n",
       "      <td>abc{id='88-4-192',</td>\n",
       "    </tr>\n",
       "    <tr>\n",
       "      <th>5</th>\n",
       "      <td>xyz</td>\n",
       "      <td>abc{id='65-12-141',</td>\n",
       "    </tr>\n",
       "    <tr>\n",
       "      <th>6</th>\n",
       "      <td>xyz</td>\n",
       "      <td>abc{id='65-12-111',</td>\n",
       "    </tr>\n",
       "    <tr>\n",
       "      <th>7</th>\n",
       "      <td>xyz</td>\n",
       "      <td>abc{id='53-0-2900',</td>\n",
       "    </tr>\n",
       "    <tr>\n",
       "      <th>8</th>\n",
       "      <td>1234</td>\n",
       "      <td>abc{id='205-4-1277',</td>\n",
       "    </tr>\n",
       "    <tr>\n",
       "      <th>9</th>\n",
       "      <td>1234</td>\n",
       "      <td>abc{id='205-4-1278',</td>\n",
       "    </tr>\n",
       "    <tr>\n",
       "      <th>10</th>\n",
       "      <td>1234</td>\n",
       "      <td>abc{id='205-4-1279',</td>\n",
       "    </tr>\n",
       "    <tr>\n",
       "      <th>11</th>\n",
       "      <td>1234</td>\n",
       "      <td>abc{id='205-4-1270',</td>\n",
       "    </tr>\n",
       "    <tr>\n",
       "      <th>12</th>\n",
       "      <td>1234</td>\n",
       "      <td>abc{id='205-4-1271',</td>\n",
       "    </tr>\n",
       "    <tr>\n",
       "      <th>13</th>\n",
       "      <td>1234</td>\n",
       "      <td>abc{id='205-4-1272',</td>\n",
       "    </tr>\n",
       "    <tr>\n",
       "      <th>14</th>\n",
       "      <td>1234</td>\n",
       "      <td>abc{id='205-4-1273',</td>\n",
       "    </tr>\n",
       "    <tr>\n",
       "      <th>15</th>\n",
       "      <td>1234</td>\n",
       "      <td>abc{id='205-4-1274',</td>\n",
       "    </tr>\n",
       "    <tr>\n",
       "      <th>16</th>\n",
       "      <td>1234</td>\n",
       "      <td>abc{id='205-4-1275',</td>\n",
       "    </tr>\n",
       "    <tr>\n",
       "      <th>17</th>\n",
       "      <td>1234</td>\n",
       "      <td>abc{id='205-4-1276',</td>\n",
       "    </tr>\n",
       "    <tr>\n",
       "      <th>18</th>\n",
       "      <td>1234</td>\n",
       "      <td>abc{id='205-4-1280',</td>\n",
       "    </tr>\n",
       "    <tr>\n",
       "      <th>19</th>\n",
       "      <td>1234</td>\n",
       "      <td>abc{id='205-4-1281',</td>\n",
       "    </tr>\n",
       "    <tr>\n",
       "      <th>20</th>\n",
       "      <td>1234</td>\n",
       "      <td>abc{id='205-4-1282',</td>\n",
       "    </tr>\n",
       "    <tr>\n",
       "      <th>21</th>\n",
       "      <td>1234</td>\n",
       "      <td>abc{id='205-4-1266',</td>\n",
       "    </tr>\n",
       "    <tr>\n",
       "      <th>22</th>\n",
       "      <td>1234</td>\n",
       "      <td>abc{id='205-4-1267',</td>\n",
       "    </tr>\n",
       "    <tr>\n",
       "      <th>23</th>\n",
       "      <td>1234</td>\n",
       "      <td>abc{id='205-4-1268',</td>\n",
       "    </tr>\n",
       "    <tr>\n",
       "      <th>24</th>\n",
       "      <td>1234</td>\n",
       "      <td>abc{id='205-4-1269',</td>\n",
       "    </tr>\n",
       "    <tr>\n",
       "      <th>25</th>\n",
       "      <td>1234</td>\n",
       "      <td>abc{id='205-4-1265',</td>\n",
       "    </tr>\n",
       "  </tbody>\n",
       "</table>\n",
       "</div>"
      ],
      "text/plain": [
       "      T1                            T2\n",
       "0   abcd         abc{id='248-22-5548',\n",
       "1    xyz   abc{itemNumber='74-6-5311',\n",
       "2    xyz           abc{id='240-43-55',\n",
       "3    xyz            abc{id='240-43-3',\n",
       "4    xyz            abc{id='88-4-192',\n",
       "5    xyz           abc{id='65-12-141',\n",
       "6    xyz           abc{id='65-12-111',\n",
       "7    xyz           abc{id='53-0-2900',\n",
       "8   1234          abc{id='205-4-1277',\n",
       "9   1234          abc{id='205-4-1278',\n",
       "10  1234          abc{id='205-4-1279',\n",
       "11  1234          abc{id='205-4-1270',\n",
       "12  1234          abc{id='205-4-1271',\n",
       "13  1234          abc{id='205-4-1272',\n",
       "14  1234          abc{id='205-4-1273',\n",
       "15  1234          abc{id='205-4-1274',\n",
       "16  1234          abc{id='205-4-1275',\n",
       "17  1234          abc{id='205-4-1276',\n",
       "18  1234          abc{id='205-4-1280',\n",
       "19  1234          abc{id='205-4-1281',\n",
       "20  1234          abc{id='205-4-1282',\n",
       "21  1234          abc{id='205-4-1266',\n",
       "22  1234          abc{id='205-4-1267',\n",
       "23  1234          abc{id='205-4-1268',\n",
       "24  1234          abc{id='205-4-1269',\n",
       "25  1234          abc{id='205-4-1265',"
      ]
     },
     "execution_count": 84,
     "metadata": {},
     "output_type": "execute_result"
    }
   ],
   "source": [
    "data_frame.drop(['data_set','id'],axis=1)"
   ]
  },
  {
   "cell_type": "code",
   "execution_count": 85,
   "metadata": {},
   "outputs": [],
   "source": [
    "data_frame['T3']=data_frame['T2'].apply(pd.Series)"
   ]
  },
  {
   "cell_type": "code",
   "execution_count": 86,
   "metadata": {},
   "outputs": [],
   "source": [
    "data_frame.drop(['data_set','id','T3'],axis=1,inplace=True)"
   ]
  },
  {
   "cell_type": "code",
   "execution_count": 87,
   "metadata": {},
   "outputs": [],
   "source": [
    "data_frame['T3']=data_frame.T2.str.split('{').str[0]"
   ]
  },
  {
   "cell_type": "code",
   "execution_count": 88,
   "metadata": {},
   "outputs": [],
   "source": [
    "data_frame['T4']=data_frame.T2.str.split('{').str[1]"
   ]
  },
  {
   "cell_type": "code",
   "execution_count": 89,
   "metadata": {},
   "outputs": [],
   "source": [
    "data_frame['T5']=data_frame.T4.str.split('=').str[1]"
   ]
  },
  {
   "cell_type": "code",
   "execution_count": 90,
   "metadata": {},
   "outputs": [],
   "source": [
    "data_frame['T6']=data_frame.T5.str.split('-').str[0]"
   ]
  },
  {
   "cell_type": "code",
   "execution_count": 91,
   "metadata": {},
   "outputs": [],
   "source": [
    "data_frame['T7']=data_frame.T5.str.split('-').str[1]"
   ]
  },
  {
   "cell_type": "code",
   "execution_count": 92,
   "metadata": {},
   "outputs": [],
   "source": [
    "data_frame['T8']=data_frame.T5.str.split('-').str[2]"
   ]
  },
  {
   "cell_type": "code",
   "execution_count": 93,
   "metadata": {},
   "outputs": [],
   "source": [
    "data_frame.drop(['T2','T4','T5'],axis=1,inplace=True)"
   ]
  },
  {
   "cell_type": "code",
   "execution_count": 94,
   "metadata": {},
   "outputs": [],
   "source": [
    "data_frame['T8']=data_frame['T8'].str.split(\"'\").str[0]"
   ]
  },
  {
   "cell_type": "code",
   "execution_count": 95,
   "metadata": {},
   "outputs": [],
   "source": [
    "data_frame['T6']=data_frame['T6'].str.split(\"'\").str[1]"
   ]
  },
  {
   "cell_type": "code",
   "execution_count": 96,
   "metadata": {},
   "outputs": [
    {
     "data": {
      "text/html": [
       "<div>\n",
       "<style scoped>\n",
       "    .dataframe tbody tr th:only-of-type {\n",
       "        vertical-align: middle;\n",
       "    }\n",
       "\n",
       "    .dataframe tbody tr th {\n",
       "        vertical-align: top;\n",
       "    }\n",
       "\n",
       "    .dataframe thead th {\n",
       "        text-align: right;\n",
       "    }\n",
       "</style>\n",
       "<table border=\"1\" class=\"dataframe\">\n",
       "  <thead>\n",
       "    <tr style=\"text-align: right;\">\n",
       "      <th></th>\n",
       "      <th>T1</th>\n",
       "      <th>T3</th>\n",
       "      <th>T6</th>\n",
       "      <th>T7</th>\n",
       "      <th>T8</th>\n",
       "    </tr>\n",
       "  </thead>\n",
       "  <tbody>\n",
       "    <tr>\n",
       "      <th>0</th>\n",
       "      <td>abcd</td>\n",
       "      <td>abc</td>\n",
       "      <td>248</td>\n",
       "      <td>22</td>\n",
       "      <td>5548</td>\n",
       "    </tr>\n",
       "    <tr>\n",
       "      <th>1</th>\n",
       "      <td>xyz</td>\n",
       "      <td>abc</td>\n",
       "      <td>74</td>\n",
       "      <td>6</td>\n",
       "      <td>5311</td>\n",
       "    </tr>\n",
       "    <tr>\n",
       "      <th>2</th>\n",
       "      <td>xyz</td>\n",
       "      <td>abc</td>\n",
       "      <td>240</td>\n",
       "      <td>43</td>\n",
       "      <td>55</td>\n",
       "    </tr>\n",
       "    <tr>\n",
       "      <th>3</th>\n",
       "      <td>xyz</td>\n",
       "      <td>abc</td>\n",
       "      <td>240</td>\n",
       "      <td>43</td>\n",
       "      <td>3</td>\n",
       "    </tr>\n",
       "    <tr>\n",
       "      <th>4</th>\n",
       "      <td>xyz</td>\n",
       "      <td>abc</td>\n",
       "      <td>88</td>\n",
       "      <td>4</td>\n",
       "      <td>192</td>\n",
       "    </tr>\n",
       "  </tbody>\n",
       "</table>\n",
       "</div>"
      ],
      "text/plain": [
       "     T1    T3   T6  T7    T8\n",
       "0  abcd   abc  248  22  5548\n",
       "1   xyz   abc   74   6  5311\n",
       "2   xyz   abc  240  43    55\n",
       "3   xyz   abc  240  43     3\n",
       "4   xyz   abc   88   4   192"
      ]
     },
     "execution_count": 96,
     "metadata": {},
     "output_type": "execute_result"
    }
   ],
   "source": [
    "data_frame.head(5)"
   ]
  },
  {
   "cell_type": "code",
   "execution_count": 97,
   "metadata": {},
   "outputs": [],
   "source": [
    "df_concat=data_frame.groupby(['T6','T7'],as_index=False).agg(lambda x: \", \".join(sorted(set(x))))"
   ]
  },
  {
   "cell_type": "code",
   "execution_count": 98,
   "metadata": {},
   "outputs": [
    {
     "data": {
      "text/html": [
       "<div>\n",
       "<style scoped>\n",
       "    .dataframe tbody tr th:only-of-type {\n",
       "        vertical-align: middle;\n",
       "    }\n",
       "\n",
       "    .dataframe tbody tr th {\n",
       "        vertical-align: top;\n",
       "    }\n",
       "\n",
       "    .dataframe thead th {\n",
       "        text-align: right;\n",
       "    }\n",
       "</style>\n",
       "<table border=\"1\" class=\"dataframe\">\n",
       "  <thead>\n",
       "    <tr style=\"text-align: right;\">\n",
       "      <th></th>\n",
       "      <th>T6</th>\n",
       "      <th>T7</th>\n",
       "      <th>T1</th>\n",
       "      <th>T3</th>\n",
       "      <th>T8</th>\n",
       "    </tr>\n",
       "  </thead>\n",
       "  <tbody>\n",
       "    <tr>\n",
       "      <th>0</th>\n",
       "      <td>205</td>\n",
       "      <td>4</td>\n",
       "      <td>1234</td>\n",
       "      <td>abc</td>\n",
       "      <td>1265, 1266, 1267, 1268, 1269, 1270, 1271, 1272...</td>\n",
       "    </tr>\n",
       "    <tr>\n",
       "      <th>1</th>\n",
       "      <td>240</td>\n",
       "      <td>43</td>\n",
       "      <td>xyz</td>\n",
       "      <td>abc</td>\n",
       "      <td>3, 55</td>\n",
       "    </tr>\n",
       "    <tr>\n",
       "      <th>2</th>\n",
       "      <td>248</td>\n",
       "      <td>22</td>\n",
       "      <td>abcd</td>\n",
       "      <td>abc</td>\n",
       "      <td>5548</td>\n",
       "    </tr>\n",
       "    <tr>\n",
       "      <th>3</th>\n",
       "      <td>53</td>\n",
       "      <td>0</td>\n",
       "      <td>xyz</td>\n",
       "      <td>abc</td>\n",
       "      <td>2900</td>\n",
       "    </tr>\n",
       "    <tr>\n",
       "      <th>4</th>\n",
       "      <td>65</td>\n",
       "      <td>12</td>\n",
       "      <td>xyz</td>\n",
       "      <td>abc</td>\n",
       "      <td>111, 141</td>\n",
       "    </tr>\n",
       "    <tr>\n",
       "      <th>5</th>\n",
       "      <td>74</td>\n",
       "      <td>6</td>\n",
       "      <td>xyz</td>\n",
       "      <td>abc</td>\n",
       "      <td>5311</td>\n",
       "    </tr>\n",
       "    <tr>\n",
       "      <th>6</th>\n",
       "      <td>88</td>\n",
       "      <td>4</td>\n",
       "      <td>xyz</td>\n",
       "      <td>abc</td>\n",
       "      <td>192</td>\n",
       "    </tr>\n",
       "  </tbody>\n",
       "</table>\n",
       "</div>"
      ],
      "text/plain": [
       "    T6  T7    T1    T3                                                 T8\n",
       "0  205   4  1234   abc  1265, 1266, 1267, 1268, 1269, 1270, 1271, 1272...\n",
       "1  240  43   xyz   abc                                              3, 55\n",
       "2  248  22  abcd   abc                                               5548\n",
       "3   53   0   xyz   abc                                               2900\n",
       "4   65  12   xyz   abc                                           111, 141\n",
       "5   74   6   xyz   abc                                               5311\n",
       "6   88   4   xyz   abc                                                192"
      ]
     },
     "execution_count": 98,
     "metadata": {},
     "output_type": "execute_result"
    }
   ],
   "source": [
    "df_concat"
   ]
  },
  {
   "cell_type": "code",
   "execution_count": 99,
   "metadata": {},
   "outputs": [],
   "source": [
    "col_title=['T1','T3','T6','T7','T8']\n",
    "df_concat=df_concat.reindex(columns=col_title)"
   ]
  },
  {
   "cell_type": "code",
   "execution_count": 100,
   "metadata": {},
   "outputs": [],
   "source": [
    "df_concat['T6']=df_concat['T6'].astype(int)\n",
    "df_concat['T7']=df_concat['T7'].astype(int)\n",
    "df_concat['T8']=df_concat['T8'].apply(lambda x:\"[{}]\".format(x))"
   ]
  },
  {
   "cell_type": "code",
   "execution_count": 101,
   "metadata": {},
   "outputs": [],
   "source": [
    "df_concat=df_concat.reset_index()"
   ]
  },
  {
   "cell_type": "code",
   "execution_count": 102,
   "metadata": {},
   "outputs": [
    {
     "data": {
      "text/html": [
       "<div>\n",
       "<style scoped>\n",
       "    .dataframe tbody tr th:only-of-type {\n",
       "        vertical-align: middle;\n",
       "    }\n",
       "\n",
       "    .dataframe tbody tr th {\n",
       "        vertical-align: top;\n",
       "    }\n",
       "\n",
       "    .dataframe thead th {\n",
       "        text-align: right;\n",
       "    }\n",
       "</style>\n",
       "<table border=\"1\" class=\"dataframe\">\n",
       "  <thead>\n",
       "    <tr style=\"text-align: right;\">\n",
       "      <th></th>\n",
       "      <th>index</th>\n",
       "      <th>T1</th>\n",
       "      <th>T3</th>\n",
       "      <th>T6</th>\n",
       "      <th>T7</th>\n",
       "      <th>T8</th>\n",
       "    </tr>\n",
       "  </thead>\n",
       "  <tbody>\n",
       "    <tr>\n",
       "      <th>0</th>\n",
       "      <td>0</td>\n",
       "      <td>1234</td>\n",
       "      <td>abc</td>\n",
       "      <td>205</td>\n",
       "      <td>4</td>\n",
       "      <td>[1265, 1266, 1267, 1268, 1269, 1270, 1271, 127...</td>\n",
       "    </tr>\n",
       "    <tr>\n",
       "      <th>1</th>\n",
       "      <td>1</td>\n",
       "      <td>xyz</td>\n",
       "      <td>abc</td>\n",
       "      <td>240</td>\n",
       "      <td>43</td>\n",
       "      <td>[3, 55]</td>\n",
       "    </tr>\n",
       "    <tr>\n",
       "      <th>2</th>\n",
       "      <td>2</td>\n",
       "      <td>abcd</td>\n",
       "      <td>abc</td>\n",
       "      <td>248</td>\n",
       "      <td>22</td>\n",
       "      <td>[5548]</td>\n",
       "    </tr>\n",
       "    <tr>\n",
       "      <th>3</th>\n",
       "      <td>3</td>\n",
       "      <td>xyz</td>\n",
       "      <td>abc</td>\n",
       "      <td>53</td>\n",
       "      <td>0</td>\n",
       "      <td>[2900]</td>\n",
       "    </tr>\n",
       "    <tr>\n",
       "      <th>4</th>\n",
       "      <td>4</td>\n",
       "      <td>xyz</td>\n",
       "      <td>abc</td>\n",
       "      <td>65</td>\n",
       "      <td>12</td>\n",
       "      <td>[111, 141]</td>\n",
       "    </tr>\n",
       "    <tr>\n",
       "      <th>5</th>\n",
       "      <td>5</td>\n",
       "      <td>xyz</td>\n",
       "      <td>abc</td>\n",
       "      <td>74</td>\n",
       "      <td>6</td>\n",
       "      <td>[5311]</td>\n",
       "    </tr>\n",
       "    <tr>\n",
       "      <th>6</th>\n",
       "      <td>6</td>\n",
       "      <td>xyz</td>\n",
       "      <td>abc</td>\n",
       "      <td>88</td>\n",
       "      <td>4</td>\n",
       "      <td>[192]</td>\n",
       "    </tr>\n",
       "  </tbody>\n",
       "</table>\n",
       "</div>"
      ],
      "text/plain": [
       "   index    T1    T3   T6  T7  \\\n",
       "0      0  1234   abc  205   4   \n",
       "1      1   xyz   abc  240  43   \n",
       "2      2  abcd   abc  248  22   \n",
       "3      3   xyz   abc   53   0   \n",
       "4      4   xyz   abc   65  12   \n",
       "5      5   xyz   abc   74   6   \n",
       "6      6   xyz   abc   88   4   \n",
       "\n",
       "                                                  T8  \n",
       "0  [1265, 1266, 1267, 1268, 1269, 1270, 1271, 127...  \n",
       "1                                            [3, 55]  \n",
       "2                                             [5548]  \n",
       "3                                             [2900]  \n",
       "4                                         [111, 141]  \n",
       "5                                             [5311]  \n",
       "6                                              [192]  "
      ]
     },
     "execution_count": 102,
     "metadata": {},
     "output_type": "execute_result"
    }
   ],
   "source": [
    "df_concat"
   ]
  },
  {
   "cell_type": "code",
   "execution_count": 103,
   "metadata": {},
   "outputs": [],
   "source": [
    "df_concat['ID']='ID'\n",
    "df_concat['ITEM']='ITEM'"
   ]
  },
  {
   "cell_type": "code",
   "execution_count": 104,
   "metadata": {},
   "outputs": [
    {
     "data": {
      "text/html": [
       "<div>\n",
       "<style scoped>\n",
       "    .dataframe tbody tr th:only-of-type {\n",
       "        vertical-align: middle;\n",
       "    }\n",
       "\n",
       "    .dataframe tbody tr th {\n",
       "        vertical-align: top;\n",
       "    }\n",
       "\n",
       "    .dataframe thead th {\n",
       "        text-align: right;\n",
       "    }\n",
       "</style>\n",
       "<table border=\"1\" class=\"dataframe\">\n",
       "  <thead>\n",
       "    <tr style=\"text-align: right;\">\n",
       "      <th></th>\n",
       "      <th>index</th>\n",
       "      <th>T1</th>\n",
       "      <th>T3</th>\n",
       "      <th>T6</th>\n",
       "      <th>T7</th>\n",
       "      <th>T8</th>\n",
       "      <th>ID</th>\n",
       "      <th>ITEM</th>\n",
       "    </tr>\n",
       "  </thead>\n",
       "  <tbody>\n",
       "    <tr>\n",
       "      <th>0</th>\n",
       "      <td>0</td>\n",
       "      <td>1234</td>\n",
       "      <td>abc</td>\n",
       "      <td>205</td>\n",
       "      <td>4</td>\n",
       "      <td>[1265, 1266, 1267, 1268, 1269, 1270, 1271, 127...</td>\n",
       "      <td>ID</td>\n",
       "      <td>ITEM</td>\n",
       "    </tr>\n",
       "    <tr>\n",
       "      <th>1</th>\n",
       "      <td>1</td>\n",
       "      <td>xyz</td>\n",
       "      <td>abc</td>\n",
       "      <td>240</td>\n",
       "      <td>43</td>\n",
       "      <td>[3, 55]</td>\n",
       "      <td>ID</td>\n",
       "      <td>ITEM</td>\n",
       "    </tr>\n",
       "    <tr>\n",
       "      <th>2</th>\n",
       "      <td>2</td>\n",
       "      <td>abcd</td>\n",
       "      <td>abc</td>\n",
       "      <td>248</td>\n",
       "      <td>22</td>\n",
       "      <td>[5548]</td>\n",
       "      <td>ID</td>\n",
       "      <td>ITEM</td>\n",
       "    </tr>\n",
       "    <tr>\n",
       "      <th>3</th>\n",
       "      <td>3</td>\n",
       "      <td>xyz</td>\n",
       "      <td>abc</td>\n",
       "      <td>53</td>\n",
       "      <td>0</td>\n",
       "      <td>[2900]</td>\n",
       "      <td>ID</td>\n",
       "      <td>ITEM</td>\n",
       "    </tr>\n",
       "    <tr>\n",
       "      <th>4</th>\n",
       "      <td>4</td>\n",
       "      <td>xyz</td>\n",
       "      <td>abc</td>\n",
       "      <td>65</td>\n",
       "      <td>12</td>\n",
       "      <td>[111, 141]</td>\n",
       "      <td>ID</td>\n",
       "      <td>ITEM</td>\n",
       "    </tr>\n",
       "    <tr>\n",
       "      <th>5</th>\n",
       "      <td>5</td>\n",
       "      <td>xyz</td>\n",
       "      <td>abc</td>\n",
       "      <td>74</td>\n",
       "      <td>6</td>\n",
       "      <td>[5311]</td>\n",
       "      <td>ID</td>\n",
       "      <td>ITEM</td>\n",
       "    </tr>\n",
       "    <tr>\n",
       "      <th>6</th>\n",
       "      <td>6</td>\n",
       "      <td>xyz</td>\n",
       "      <td>abc</td>\n",
       "      <td>88</td>\n",
       "      <td>4</td>\n",
       "      <td>[192]</td>\n",
       "      <td>ID</td>\n",
       "      <td>ITEM</td>\n",
       "    </tr>\n",
       "  </tbody>\n",
       "</table>\n",
       "</div>"
      ],
      "text/plain": [
       "   index    T1    T3   T6  T7  \\\n",
       "0      0  1234   abc  205   4   \n",
       "1      1   xyz   abc  240  43   \n",
       "2      2  abcd   abc  248  22   \n",
       "3      3   xyz   abc   53   0   \n",
       "4      4   xyz   abc   65  12   \n",
       "5      5   xyz   abc   74   6   \n",
       "6      6   xyz   abc   88   4   \n",
       "\n",
       "                                                  T8  ID  ITEM  \n",
       "0  [1265, 1266, 1267, 1268, 1269, 1270, 1271, 127...  ID  ITEM  \n",
       "1                                            [3, 55]  ID  ITEM  \n",
       "2                                             [5548]  ID  ITEM  \n",
       "3                                             [2900]  ID  ITEM  \n",
       "4                                         [111, 141]  ID  ITEM  \n",
       "5                                             [5311]  ID  ITEM  \n",
       "6                                              [192]  ID  ITEM  "
      ]
     },
     "execution_count": 104,
     "metadata": {},
     "output_type": "execute_result"
    }
   ],
   "source": [
    "df_concat"
   ]
  },
  {
   "cell_type": "code",
   "execution_count": 105,
   "metadata": {},
   "outputs": [],
   "source": [
    "col_title=['T1','T3','T6','ID','T7','ITEM','T8']\n",
    "df_concat=df_concat.reindex(columns=col_title)"
   ]
  },
  {
   "cell_type": "code",
   "execution_count": 106,
   "metadata": {},
   "outputs": [
    {
     "data": {
      "text/html": [
       "<div>\n",
       "<style scoped>\n",
       "    .dataframe tbody tr th:only-of-type {\n",
       "        vertical-align: middle;\n",
       "    }\n",
       "\n",
       "    .dataframe tbody tr th {\n",
       "        vertical-align: top;\n",
       "    }\n",
       "\n",
       "    .dataframe thead th {\n",
       "        text-align: right;\n",
       "    }\n",
       "</style>\n",
       "<table border=\"1\" class=\"dataframe\">\n",
       "  <thead>\n",
       "    <tr style=\"text-align: right;\">\n",
       "      <th></th>\n",
       "      <th>T1</th>\n",
       "      <th>T3</th>\n",
       "      <th>T6</th>\n",
       "      <th>ID</th>\n",
       "      <th>T7</th>\n",
       "      <th>ITEM</th>\n",
       "      <th>T8</th>\n",
       "    </tr>\n",
       "  </thead>\n",
       "  <tbody>\n",
       "    <tr>\n",
       "      <th>0</th>\n",
       "      <td>1234</td>\n",
       "      <td>abc</td>\n",
       "      <td>205</td>\n",
       "      <td>ID</td>\n",
       "      <td>4</td>\n",
       "      <td>ITEM</td>\n",
       "      <td>[1265, 1266, 1267, 1268, 1269, 1270, 1271, 127...</td>\n",
       "    </tr>\n",
       "    <tr>\n",
       "      <th>1</th>\n",
       "      <td>xyz</td>\n",
       "      <td>abc</td>\n",
       "      <td>240</td>\n",
       "      <td>ID</td>\n",
       "      <td>43</td>\n",
       "      <td>ITEM</td>\n",
       "      <td>[3, 55]</td>\n",
       "    </tr>\n",
       "    <tr>\n",
       "      <th>2</th>\n",
       "      <td>abcd</td>\n",
       "      <td>abc</td>\n",
       "      <td>248</td>\n",
       "      <td>ID</td>\n",
       "      <td>22</td>\n",
       "      <td>ITEM</td>\n",
       "      <td>[5548]</td>\n",
       "    </tr>\n",
       "    <tr>\n",
       "      <th>3</th>\n",
       "      <td>xyz</td>\n",
       "      <td>abc</td>\n",
       "      <td>53</td>\n",
       "      <td>ID</td>\n",
       "      <td>0</td>\n",
       "      <td>ITEM</td>\n",
       "      <td>[2900]</td>\n",
       "    </tr>\n",
       "    <tr>\n",
       "      <th>4</th>\n",
       "      <td>xyz</td>\n",
       "      <td>abc</td>\n",
       "      <td>65</td>\n",
       "      <td>ID</td>\n",
       "      <td>12</td>\n",
       "      <td>ITEM</td>\n",
       "      <td>[111, 141]</td>\n",
       "    </tr>\n",
       "    <tr>\n",
       "      <th>5</th>\n",
       "      <td>xyz</td>\n",
       "      <td>abc</td>\n",
       "      <td>74</td>\n",
       "      <td>ID</td>\n",
       "      <td>6</td>\n",
       "      <td>ITEM</td>\n",
       "      <td>[5311]</td>\n",
       "    </tr>\n",
       "    <tr>\n",
       "      <th>6</th>\n",
       "      <td>xyz</td>\n",
       "      <td>abc</td>\n",
       "      <td>88</td>\n",
       "      <td>ID</td>\n",
       "      <td>4</td>\n",
       "      <td>ITEM</td>\n",
       "      <td>[192]</td>\n",
       "    </tr>\n",
       "  </tbody>\n",
       "</table>\n",
       "</div>"
      ],
      "text/plain": [
       "     T1    T3   T6  ID  T7  ITEM  \\\n",
       "0  1234   abc  205  ID   4  ITEM   \n",
       "1   xyz   abc  240  ID  43  ITEM   \n",
       "2  abcd   abc  248  ID  22  ITEM   \n",
       "3   xyz   abc   53  ID   0  ITEM   \n",
       "4   xyz   abc   65  ID  12  ITEM   \n",
       "5   xyz   abc   74  ID   6  ITEM   \n",
       "6   xyz   abc   88  ID   4  ITEM   \n",
       "\n",
       "                                                  T8  \n",
       "0  [1265, 1266, 1267, 1268, 1269, 1270, 1271, 127...  \n",
       "1                                            [3, 55]  \n",
       "2                                             [5548]  \n",
       "3                                             [2900]  \n",
       "4                                         [111, 141]  \n",
       "5                                             [5311]  \n",
       "6                                              [192]  "
      ]
     },
     "execution_count": 106,
     "metadata": {},
     "output_type": "execute_result"
    }
   ],
   "source": [
    "df_concat"
   ]
  },
  {
   "cell_type": "code",
   "execution_count": 107,
   "metadata": {},
   "outputs": [
    {
     "name": "stdout",
     "output_type": "stream",
     "text": [
      "{0: {'1234': {' abc': 205, 'ID': 4, 'ITEM': '[1265, 1266, 1267, 1268, 1269, 1270, 1271, 1272, 1273, 1274, 1275, 1276, 1277, 1278, 1279, 1280, 1281, 1282]'}}, 1: {'xyz': {' abc': 240, 'ID': 43, 'ITEM': '[3, 55]'}}, 2: {'abcd': {' abc': 248, 'ID': 22, 'ITEM': '[5548]'}}, 3: {'xyz': {' abc': 53, 'ID': 0, 'ITEM': '[2900]'}}, 4: {'xyz': {' abc': 65, 'ID': 12, 'ITEM': '[111, 141]'}}, 5: {'xyz': {' abc': 74, 'ID': 6, 'ITEM': '[5311]'}}, 6: {'xyz': {' abc': 88, 'ID': 4, 'ITEM': '[192]'}}}\n"
     ]
    }
   ],
   "source": [
    "# this is one way but have to remove the 0,1,2,3,4,5,6\n",
    "m={}\n",
    "n=0\n",
    "k=df_concat.shape\n",
    "num=k[0]\n",
    "while n < num:\n",
    "    m[n]={df_concat['T1'][n]:{df_concat['T3'][n]:df_concat['T6'][n],df_concat['ID'][n]:df_concat['T7'][n],df_concat['ITEM'][n]:df_concat['T8'][n]}}\n",
    "    n=n+1\n",
    "print(m)\n"
   ]
  },
  {
   "cell_type": "code",
   "execution_count": 108,
   "metadata": {},
   "outputs": [],
   "source": [
    "# this is another way\n",
    "d={}\n",
    "for i in df_concat['T1'].unique():\n",
    "    d[i]=[{df_concat['T3'][n]:df_concat['T6'][n],df_concat['ID'][n]:df_concat['T7'][n],df_concat['ITEM'][n]:df_concat['T8'][n]} for n in df_concat[df_concat['T1']==i].index]"
   ]
  },
  {
   "cell_type": "code",
   "execution_count": 109,
   "metadata": {},
   "outputs": [
    {
     "data": {
      "text/plain": [
       "{'1234': [{' abc': 205,\n",
       "   'ID': 4,\n",
       "   'ITEM': '[1265, 1266, 1267, 1268, 1269, 1270, 1271, 1272, 1273, 1274, 1275, 1276, 1277, 1278, 1279, 1280, 1281, 1282]'}],\n",
       " 'xyz': [{' abc': 240, 'ID': 43, 'ITEM': '[3, 55]'},\n",
       "  {' abc': 53, 'ID': 0, 'ITEM': '[2900]'},\n",
       "  {' abc': 65, 'ID': 12, 'ITEM': '[111, 141]'},\n",
       "  {' abc': 74, 'ID': 6, 'ITEM': '[5311]'},\n",
       "  {' abc': 88, 'ID': 4, 'ITEM': '[192]'}],\n",
       " 'abcd': [{' abc': 248, 'ID': 22, 'ITEM': '[5548]'}]}"
      ]
     },
     "execution_count": 109,
     "metadata": {},
     "output_type": "execute_result"
    }
   ],
   "source": [
    "d"
   ]
  },
  {
   "cell_type": "code",
   "execution_count": 115,
   "metadata": {},
   "outputs": [
    {
     "name": "stdout",
     "output_type": "stream",
     "text": [
      "\n",
      "1234 is [{' abc': 205, 'ID': 4, 'ITEM': '[1265, 1266, 1267, 1268, 1269, 1270, 1271, 1272, 1273, 1274, 1275, 1276, 1277, 1278, 1279, 1280, 1281, 1282]'}].\n",
      "\n",
      "+++++++++++++++++++\n",
      "\n",
      "xyz is [{' abc': 240, 'ID': 43, 'ITEM': '[3, 55]'}, {' abc': 53, 'ID': 0, 'ITEM': '[2900]'}, {' abc': 65, 'ID': 12, 'ITEM': '[111, 141]'}, {' abc': 74, 'ID': 6, 'ITEM': '[5311]'}, {' abc': 88, 'ID': 4, 'ITEM': '[192]'}].\n",
      "\n",
      "+++++++++++++++++++\n",
      "\n",
      "abcd is [{' abc': 248, 'ID': 22, 'ITEM': '[5548]'}].\n",
      "\n",
      "+++++++++++++++++++\n"
     ]
    }
   ],
   "source": [
    "for key,value in d.items():\n",
    "    print(\"\\n{} is {}.\\n\".format(key,value))\n",
    "    print(\"+++++++++++++++++++\")"
   ]
  },
  {
   "cell_type": "code",
   "execution_count": null,
   "metadata": {},
   "outputs": [],
   "source": []
  },
  {
   "cell_type": "code",
   "execution_count": null,
   "metadata": {},
   "outputs": [],
   "source": []
  },
  {
   "cell_type": "code",
   "execution_count": null,
   "metadata": {},
   "outputs": [],
   "source": []
  },
  {
   "cell_type": "code",
   "execution_count": null,
   "metadata": {},
   "outputs": [],
   "source": []
  },
  {
   "cell_type": "code",
   "execution_count": null,
   "metadata": {},
   "outputs": [],
   "source": []
  },
  {
   "cell_type": "code",
   "execution_count": null,
   "metadata": {},
   "outputs": [],
   "source": []
  },
  {
   "cell_type": "code",
   "execution_count": null,
   "metadata": {},
   "outputs": [],
   "source": []
  },
  {
   "cell_type": "code",
   "execution_count": null,
   "metadata": {},
   "outputs": [],
   "source": []
  },
  {
   "cell_type": "code",
   "execution_count": null,
   "metadata": {},
   "outputs": [],
   "source": []
  },
  {
   "cell_type": "code",
   "execution_count": null,
   "metadata": {},
   "outputs": [],
   "source": []
  },
  {
   "cell_type": "code",
   "execution_count": null,
   "metadata": {},
   "outputs": [],
   "source": []
  },
  {
   "cell_type": "code",
   "execution_count": null,
   "metadata": {},
   "outputs": [],
   "source": []
  },
  {
   "cell_type": "code",
   "execution_count": null,
   "metadata": {},
   "outputs": [],
   "source": []
  },
  {
   "cell_type": "code",
   "execution_count": null,
   "metadata": {},
   "outputs": [],
   "source": []
  },
  {
   "cell_type": "code",
   "execution_count": null,
   "metadata": {},
   "outputs": [],
   "source": []
  },
  {
   "cell_type": "code",
   "execution_count": null,
   "metadata": {},
   "outputs": [],
   "source": []
  },
  {
   "cell_type": "code",
   "execution_count": null,
   "metadata": {},
   "outputs": [],
   "source": []
  }
 ],
 "metadata": {
  "kernelspec": {
   "display_name": "Python 3",
   "language": "python",
   "name": "python3"
  },
  "language_info": {
   "codemirror_mode": {
    "name": "ipython",
    "version": 3
   },
   "file_extension": ".py",
   "mimetype": "text/x-python",
   "name": "python",
   "nbconvert_exporter": "python",
   "pygments_lexer": "ipython3",
   "version": "3.6.5"
  }
 },
 "nbformat": 4,
 "nbformat_minor": 2
}
