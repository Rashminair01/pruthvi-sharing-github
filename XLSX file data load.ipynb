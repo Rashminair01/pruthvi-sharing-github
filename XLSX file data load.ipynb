{
 "cells": [
  {
   "cell_type": "code",
   "execution_count": 31,
   "metadata": {},
   "outputs": [],
   "source": [
    "import pandas as pd\n",
    "import os.path"
   ]
  },
  {
   "cell_type": "code",
   "execution_count": 34,
   "metadata": {},
   "outputs": [
    {
     "name": "stdout",
     "output_type": "stream",
     "text": [
      "Data_Set_01.xlsx\n",
      "Data_Set_02.xlsx\n",
      "Data_Set_03.xlsx\n",
      "Data_Set_04.xlsx\n",
      "Data_Set_05.xlsx\n"
     ]
    }
   ],
   "source": [
    "directory=\"C:\\\\Users\\\\prakasps\\\\Desktop\\\\Python\\\\Test_Data\"\n",
    "file_list=[]\n",
    "for i in os.listdir(directory):\n",
    "    if \".xlsx\" in i:\n",
    "        file_list.append(i)\n",
    "        print(i)"
   ]
  },
  {
   "cell_type": "code",
   "execution_count": 49,
   "metadata": {},
   "outputs": [
    {
     "name": "stdout",
     "output_type": "stream",
     "text": [
      "['Data_Set_01', 'Data_Set_02', 'Data_Set_03', 'Data_Set_04', 'Data_Set_05']\n"
     ]
    }
   ],
   "source": [
    "name_list=[]\n",
    "for i in file_list:\n",
    "    name_list.append(i.split('.')[0])\n",
    "print(name_list)\n",
    "    "
   ]
  },
  {
   "cell_type": "code",
   "execution_count": 55,
   "metadata": {},
   "outputs": [],
   "source": [
    "count=0\n",
    "for i in file_list:\n",
    "    path=directory+\"\\\\\"+i\n",
    "    name_list[count]=pd.read_excel(path)\n",
    "    count=count+1"
   ]
  },
  {
   "cell_type": "code",
   "execution_count": 58,
   "metadata": {},
   "outputs": [
    {
     "name": "stdout",
     "output_type": "stream",
     "text": [
      "  Name       City  Price\n",
      "0   P1  Bangalore     23\n",
      "1   P2      Kolar     33\n",
      "  Name       City  Price\n",
      "0   P1  Bangalore   23.0\n",
      "1   P2      Kolar   33.0\n",
      "  Name       City  Price\n",
      "0   P1  Bangalore     23\n",
      "1   P2      Kolar     33\n",
      "  Name       City  Price\n",
      "0   P1  Bangalore     23\n",
      "1   P2      Kolar     33\n",
      "  Name       City  Price\n",
      "0   P1  Bangalore     23\n",
      "1   P2      Kolar     33\n"
     ]
    }
   ],
   "source": [
    "# printing shape of the loaded data frame\n",
    "count=0\n",
    "for i in name_list:\n",
    "    print(\"{}\".format(name_list[count].head(2)))\n",
    "    count=count+1"
   ]
  },
  {
   "cell_type": "code",
   "execution_count": null,
   "metadata": {},
   "outputs": [],
   "source": []
  },
  {
   "cell_type": "code",
   "execution_count": null,
   "metadata": {},
   "outputs": [],
   "source": []
  },
  {
   "cell_type": "code",
   "execution_count": null,
   "metadata": {},
   "outputs": [],
   "source": []
  },
  {
   "cell_type": "code",
   "execution_count": null,
   "metadata": {},
   "outputs": [],
   "source": []
  },
  {
   "cell_type": "code",
   "execution_count": null,
   "metadata": {},
   "outputs": [],
   "source": []
  },
  {
   "cell_type": "code",
   "execution_count": null,
   "metadata": {},
   "outputs": [],
   "source": []
  },
  {
   "cell_type": "code",
   "execution_count": null,
   "metadata": {},
   "outputs": [],
   "source": []
  },
  {
   "cell_type": "code",
   "execution_count": null,
   "metadata": {},
   "outputs": [],
   "source": []
  },
  {
   "cell_type": "code",
   "execution_count": null,
   "metadata": {},
   "outputs": [],
   "source": []
  },
  {
   "cell_type": "code",
   "execution_count": null,
   "metadata": {},
   "outputs": [],
   "source": []
  },
  {
   "cell_type": "code",
   "execution_count": null,
   "metadata": {},
   "outputs": [],
   "source": []
  },
  {
   "cell_type": "code",
   "execution_count": null,
   "metadata": {},
   "outputs": [],
   "source": []
  },
  {
   "cell_type": "code",
   "execution_count": null,
   "metadata": {},
   "outputs": [],
   "source": []
  },
  {
   "cell_type": "code",
   "execution_count": 40,
   "metadata": {},
   "outputs": [
    {
     "data": {
      "text/plain": [
       "['Data_Set_05', 'xlsx']"
      ]
     },
     "execution_count": 40,
     "metadata": {},
     "output_type": "execute_result"
    }
   ],
   "source": [
    "i.split('.')"
   ]
  },
  {
   "cell_type": "code",
   "execution_count": null,
   "metadata": {},
   "outputs": [],
   "source": []
  },
  {
   "cell_type": "code",
   "execution_count": null,
   "metadata": {},
   "outputs": [],
   "source": []
  },
  {
   "cell_type": "code",
   "execution_count": null,
   "metadata": {},
   "outputs": [],
   "source": []
  },
  {
   "cell_type": "code",
   "execution_count": null,
   "metadata": {},
   "outputs": [],
   "source": []
  },
  {
   "cell_type": "code",
   "execution_count": null,
   "metadata": {},
   "outputs": [],
   "source": []
  }
 ],
 "metadata": {
  "kernelspec": {
   "display_name": "Python 3",
   "language": "python",
   "name": "python3"
  },
  "language_info": {
   "codemirror_mode": {
    "name": "ipython",
    "version": 3
   },
   "file_extension": ".py",
   "mimetype": "text/x-python",
   "name": "python",
   "nbconvert_exporter": "python",
   "pygments_lexer": "ipython3",
   "version": "3.6.5"
  }
 },
 "nbformat": 4,
 "nbformat_minor": 2
}
