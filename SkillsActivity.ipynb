{
 "cells": [
  {
   "cell_type": "code",
   "execution_count": 2,
   "metadata": {},
   "outputs": [],
   "source": [
    "import json\n",
    "import pandas as pd"
   ]
  },
  {
   "cell_type": "code",
   "execution_count": 3,
   "metadata": {},
   "outputs": [],
   "source": [
    "raw_data=(\"D:\\\\Testing Documents\\\\Aug 2018\\In Contact\\\\SkillsActivity.JSON\")"
   ]
  },
  {
   "cell_type": "code",
   "execution_count": 4,
   "metadata": {},
   "outputs": [
    {
     "data": {
      "text/html": [
       "<div>\n",
       "<style scoped>\n",
       "    .dataframe tbody tr th:only-of-type {\n",
       "        vertical-align: middle;\n",
       "    }\n",
       "\n",
       "    .dataframe tbody tr th {\n",
       "        vertical-align: top;\n",
       "    }\n",
       "\n",
       "    .dataframe thead th {\n",
       "        text-align: right;\n",
       "    }\n",
       "</style>\n",
       "<table border=\"1\" class=\"dataframe\">\n",
       "  <thead>\n",
       "    <tr style=\"text-align: right;\">\n",
       "      <th></th>\n",
       "      <th>lastPollTime</th>\n",
       "      <th>skillActivity</th>\n",
       "    </tr>\n",
       "  </thead>\n",
       "  <tbody>\n",
       "    <tr>\n",
       "      <th>0</th>\n",
       "      <td>2018-08-29T07:14:32.450Z</td>\n",
       "      <td>{'serverTime': '2018-08-29T06:55:40.000Z', 'bu...</td>\n",
       "    </tr>\n",
       "    <tr>\n",
       "      <th>1</th>\n",
       "      <td>2018-08-29T07:14:32.450Z</td>\n",
       "      <td>{'serverTime': '2018-08-29T07:07:17.000Z', 'bu...</td>\n",
       "    </tr>\n",
       "    <tr>\n",
       "      <th>2</th>\n",
       "      <td>2018-08-29T07:14:32.450Z</td>\n",
       "      <td>{'serverTime': '2018-08-29T07:07:17.000Z', 'bu...</td>\n",
       "    </tr>\n",
       "    <tr>\n",
       "      <th>3</th>\n",
       "      <td>2018-08-29T07:14:32.450Z</td>\n",
       "      <td>{'serverTime': '2018-08-29T07:00:57.000Z', 'bu...</td>\n",
       "    </tr>\n",
       "    <tr>\n",
       "      <th>4</th>\n",
       "      <td>2018-08-29T07:14:32.450Z</td>\n",
       "      <td>{'serverTime': '2018-08-29T07:09:43.000Z', 'bu...</td>\n",
       "    </tr>\n",
       "  </tbody>\n",
       "</table>\n",
       "</div>"
      ],
      "text/plain": [
       "               lastPollTime                                      skillActivity\n",
       "0  2018-08-29T07:14:32.450Z  {'serverTime': '2018-08-29T06:55:40.000Z', 'bu...\n",
       "1  2018-08-29T07:14:32.450Z  {'serverTime': '2018-08-29T07:07:17.000Z', 'bu...\n",
       "2  2018-08-29T07:14:32.450Z  {'serverTime': '2018-08-29T07:07:17.000Z', 'bu...\n",
       "3  2018-08-29T07:14:32.450Z  {'serverTime': '2018-08-29T07:00:57.000Z', 'bu...\n",
       "4  2018-08-29T07:14:32.450Z  {'serverTime': '2018-08-29T07:09:43.000Z', 'bu..."
      ]
     },
     "execution_count": 4,
     "metadata": {},
     "output_type": "execute_result"
    }
   ],
   "source": [
    "df=pd.read_json(raw_data)\n",
    "df.head()"
   ]
  },
  {
   "cell_type": "code",
   "execution_count": 5,
   "metadata": {},
   "outputs": [],
   "source": [
    "data=df['skillActivity'][0]"
   ]
  },
  {
   "cell_type": "code",
   "execution_count": 6,
   "metadata": {},
   "outputs": [
    {
     "name": "stdout",
     "output_type": "stream",
     "text": [
      "['serverTime', 'businessUnitId', 'agentsACW', 'agentsAvailable', 'agentsIdle', 'agentsLoggedIn', 'agentsUnavailable', 'agentsWorking', 'campaignId', 'campaignName', 'contactsActive', 'earliestQueueTime', 'emailFromAddress', 'isActive', 'inSLA', 'isNaturalCalling', 'isOutbound', 'mediaTypeId', 'mediaTypeName', 'outSLA', 'queueCount', 'serviceLevel', 'serviceLevelGoal', 'serviceLevelThreshold', 'skillName', 'skillId', 'skillQueueCount', 'personalQueueCount', 'parkedCount', 'isRestricted']\n"
     ]
    }
   ],
   "source": [
    "columns=list(data.keys())\n",
    "print(columns)"
   ]
  },
  {
   "cell_type": "code",
   "execution_count": 7,
   "metadata": {},
   "outputs": [
    {
     "data": {
      "text/plain": [
       "['servertime',\n",
       " 'businessunitid',\n",
       " 'agentsacw',\n",
       " 'agentsavailable',\n",
       " 'agentsidle',\n",
       " 'agentsloggedin',\n",
       " 'agentsunavailable',\n",
       " 'agentsworking',\n",
       " 'campaignid',\n",
       " 'campaignname',\n",
       " 'contactsactive',\n",
       " 'earliestqueuetime',\n",
       " 'emailfromaddress',\n",
       " 'isactive',\n",
       " 'insla',\n",
       " 'isnaturalcalling',\n",
       " 'isoutbound',\n",
       " 'mediatypeid',\n",
       " 'mediatypename',\n",
       " 'outsla',\n",
       " 'queuecount',\n",
       " 'servicelevel',\n",
       " 'servicelevelgoal',\n",
       " 'servicelevelthreshold',\n",
       " 'skillname',\n",
       " 'skillid',\n",
       " 'skillqueuecount',\n",
       " 'personalqueuecount',\n",
       " 'parkedcount',\n",
       " 'isrestricted']"
      ]
     },
     "execution_count": 7,
     "metadata": {},
     "output_type": "execute_result"
    }
   ],
   "source": [
    "JList=[x.lower() for x in columns]\n",
    "JList"
   ]
  },
  {
   "cell_type": "code",
   "execution_count": 8,
   "metadata": {},
   "outputs": [
    {
     "name": "stdout",
     "output_type": "stream",
     "text": [
      "Empty DataFrame\n",
      "Columns: [serverTime, businessUnitId, agentsACW, agentsIdle, agentsLoggedIn, agentsUnavailable, agentsWorking, campaignId, campaignName, contactsActive, earliestQueueTime, emailFromAddress, isActive, inSLA, isNaturalCalling, isOutbound, mediaTypeId, mediaTypeName, outSLA, queueCount, serviceLevel, serviceLevelGoal, serviceLevelThreshold, skillQueueCount, personalQueueCount, parkedCount]\n",
      "Index: []\n",
      "\n",
      "[0 rows x 26 columns]\n"
     ]
    }
   ],
   "source": [
    "import pyodbc\n",
    "import pandas as pd\n",
    "User_pwd='ODS#Admin#'\n",
    "server_name='172.29.75.45'\n",
    "connection_stg=pyodbc.connect('Driver={ODBC Driver 13 for SQL Server};Server='+server_name+';database=ODS;UID=ODSAdmin;PWD='+User_pwd)\n",
    "\n",
    "query='select top 0* from ODS_InContact.dbo.SkillsActivity'\n",
    "\n",
    "col_query=pd.read_sql(query,connection_stg)\n",
    "print(col_query)"
   ]
  },
  {
   "cell_type": "code",
   "execution_count": 9,
   "metadata": {},
   "outputs": [],
   "source": [
    "ods_col_list=list(col_query)"
   ]
  },
  {
   "cell_type": "code",
   "execution_count": 10,
   "metadata": {},
   "outputs": [
    {
     "name": "stdout",
     "output_type": "stream",
     "text": [
      "['servertime', 'businessunitid', 'agentsacw', 'agentsidle', 'agentsloggedin', 'agentsunavailable', 'agentsworking', 'campaignid', 'campaignname', 'contactsactive', 'earliestqueuetime', 'emailfromaddress', 'isactive', 'insla', 'isnaturalcalling', 'isoutbound', 'mediatypeid', 'mediatypename', 'outsla', 'queuecount', 'servicelevel', 'servicelevelgoal', 'servicelevelthreshold', 'skillqueuecount', 'personalqueuecount', 'parkedcount']\n"
     ]
    }
   ],
   "source": [
    "OList=[x.lower() for x in ods_col_list]\n",
    "print(OList)"
   ]
  },
  {
   "cell_type": "code",
   "execution_count": 11,
   "metadata": {},
   "outputs": [],
   "source": [
    "unmapped_list=[]\n",
    "for i in JList:\n",
    "    if i not in OList:\n",
    "        unmapped_list.append(i)"
   ]
  },
  {
   "cell_type": "code",
   "execution_count": 12,
   "metadata": {},
   "outputs": [
    {
     "data": {
      "text/plain": [
       "['agentsavailable', 'skillname', 'skillid', 'isrestricted']"
      ]
     },
     "execution_count": 12,
     "metadata": {},
     "output_type": "execute_result"
    }
   ],
   "source": [
    "unmapped_list"
   ]
  },
  {
   "cell_type": "code",
   "execution_count": null,
   "metadata": {},
   "outputs": [],
   "source": []
  }
 ],
 "metadata": {
  "kernelspec": {
   "display_name": "Python 3",
   "language": "python",
   "name": "python3"
  },
  "language_info": {
   "codemirror_mode": {
    "name": "ipython",
    "version": 3
   },
   "file_extension": ".py",
   "mimetype": "text/x-python",
   "name": "python",
   "nbconvert_exporter": "python",
   "pygments_lexer": "ipython3",
   "version": "3.6.5"
  }
 },
 "nbformat": 4,
 "nbformat_minor": 2
}
