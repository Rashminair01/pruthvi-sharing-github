{
 "cells": [
  {
   "cell_type": "code",
   "execution_count": 2,
   "metadata": {},
   "outputs": [],
   "source": [
    "import json\n",
    "import pandas as pd"
   ]
  },
  {
   "cell_type": "code",
   "execution_count": 5,
   "metadata": {},
   "outputs": [],
   "source": [
    "raw_data=(\"D:\\\\Testing Documents\\\\Aug 2018\\In Contact\\\\Set 5\\\\ContactState.JSON\")"
   ]
  },
  {
   "cell_type": "code",
   "execution_count": 6,
   "metadata": {},
   "outputs": [],
   "source": [
    "df=pd.read_json(raw_data)\n"
   ]
  },
  {
   "cell_type": "code",
   "execution_count": 4,
   "metadata": {},
   "outputs": [],
   "source": [
    "data=df['contactStates'][0]"
   ]
  },
  {
   "cell_type": "code",
   "execution_count": 5,
   "metadata": {},
   "outputs": [
    {
     "name": "stdout",
     "output_type": "stream",
     "text": [
      "['AgentId', 'BusinessUnitId', 'CampaignName', 'CampaignId', 'ContactId', 'ContactStateCode', 'CurrentContactState', 'FirstName', 'FromAddr', 'LastName', 'LastPollTime', 'LastUpdateTime', 'MasterContactId', 'MediaName', 'MediaType', 'SkillName', 'SkillId', 'StartDate', 'TeamName', 'TeamId', 'ToAddr']\n"
     ]
    }
   ],
   "source": [
    "columns=list(data.keys())\n",
    "print(columns)"
   ]
  },
  {
   "cell_type": "code",
   "execution_count": 6,
   "metadata": {},
   "outputs": [
    {
     "data": {
      "text/plain": [
       "['agentid',\n",
       " 'businessunitid',\n",
       " 'campaignname',\n",
       " 'campaignid',\n",
       " 'contactid',\n",
       " 'contactstatecode',\n",
       " 'currentcontactstate',\n",
       " 'firstname',\n",
       " 'fromaddr',\n",
       " 'lastname',\n",
       " 'lastpolltime',\n",
       " 'lastupdatetime',\n",
       " 'mastercontactid',\n",
       " 'medianame',\n",
       " 'mediatype',\n",
       " 'skillname',\n",
       " 'skillid',\n",
       " 'startdate',\n",
       " 'teamname',\n",
       " 'teamid',\n",
       " 'toaddr']"
      ]
     },
     "execution_count": 6,
     "metadata": {},
     "output_type": "execute_result"
    }
   ],
   "source": [
    "JList=[x.lower() for x in columns]\n",
    "JList"
   ]
  },
  {
   "cell_type": "code",
   "execution_count": 7,
   "metadata": {},
   "outputs": [
    {
     "name": "stdout",
     "output_type": "stream",
     "text": [
      "Empty DataFrame\n",
      "Columns: [AgentId, BusinessUnitId, CampaignName, CampaignId, ContactId, ContactStateCode, CurrentContactState, FirstName, FromAddr, LastName, LastPollTime, LastUpdateTime, MasterContactId, MediaName, MediaType, SkillName, SkillId, StartDate, TeamName, TeamId, ToAddr]\n",
      "Index: []\n",
      "\n",
      "[0 rows x 21 columns]\n"
     ]
    }
   ],
   "source": [
    "import pyodbc\n",
    "import pandas as pd\n",
    "User_pwd='enter the user password'\n",
    "server_name='Enter the server name'\n",
    "connection_stg=pyodbc.connect('Driver={ODBC Driver 13 for SQL Server};Server='+server_name+';database=ODS;UID=<user id>;PWD='user pw')\n",
    "\n",
    "query='select top 0* from table name'\n",
    "\n",
    "col_query=pd.read_sql(query,connection_stg)\n",
    "print(col_query)"
   ]
  },
  {
   "cell_type": "code",
   "execution_count": 8,
   "metadata": {},
   "outputs": [],
   "source": [
    "ods_col_list=list(col_query)"
   ]
  },
  {
   "cell_type": "code",
   "execution_count": 9,
   "metadata": {},
   "outputs": [
    {
     "name": "stdout",
     "output_type": "stream",
     "text": [
      "['agentid', 'businessunitid', 'campaignname', 'campaignid', 'contactid', 'contactstatecode', 'currentcontactstate', 'firstname', 'fromaddr', 'lastname', 'lastpolltime', 'lastupdatetime', 'mastercontactid', 'medianame', 'mediatype', 'skillname', 'skillid', 'startdate', 'teamname', 'teamid', 'toaddr']\n"
     ]
    }
   ],
   "source": [
    "OList=[x.lower() for x in ods_col_list]\n",
    "print(OList)"
   ]
  },
  {
   "cell_type": "code",
   "execution_count": 10,
   "metadata": {},
   "outputs": [],
   "source": [
    "unmapped_list=[]\n",
    "for i in JList:\n",
    "    if i not in OList:\n",
    "        unmapped_list.append(i)"
   ]
  },
  {
   "cell_type": "code",
   "execution_count": 11,
   "metadata": {},
   "outputs": [
    {
     "data": {
      "text/plain": [
       "[]"
      ]
     },
     "execution_count": 11,
     "metadata": {},
     "output_type": "execute_result"
    }
   ],
   "source": [
    "unmapped_list"
   ]
  },
  {
   "cell_type": "code",
   "execution_count": null,
   "metadata": {},
   "outputs": [],
   "source": []
  }
 ],
 "metadata": {
  "kernelspec": {
   "display_name": "Python 3",
   "language": "python",
   "name": "python3"
  },
  "language_info": {
   "codemirror_mode": {
    "name": "ipython",
    "version": 3
   },
   "file_extension": ".py",
   "mimetype": "text/x-python",
   "name": "python",
   "nbconvert_exporter": "python",
   "pygments_lexer": "ipython3",
   "version": "3.6.5"
  }
 },
 "nbformat": 4,
 "nbformat_minor": 2
}
